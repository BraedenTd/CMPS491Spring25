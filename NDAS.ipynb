{
  "nbformat": 4,
  "nbformat_minor": 0,
  "metadata": {
    "colab": {
      "provenance": [],
      "authorship_tag": "ABX9TyNxoHmhAlmskth3FTXCA77F",
      "include_colab_link": true
    },
    "kernelspec": {
      "name": "python3",
      "display_name": "Python 3"
    },
    "language_info": {
      "name": "python"
    }
  },
  "cells": [
    {
      "cell_type": "markdown",
      "metadata": {
        "id": "view-in-github",
        "colab_type": "text"
      },
      "source": [
        "<a href=\"https://colab.research.google.com/github/BraedenTd/CMPS491Spring25/blob/main/NDAS.ipynb\" target=\"_parent\"><img src=\"https://colab.research.google.com/assets/colab-badge.svg\" alt=\"Open In Colab\"/></a>"
      ]
    },
    {
      "cell_type": "code",
      "source": [
        "#include \"notifier.h\"\n",
        "#include <iostream>\n",
        "#include <fstream>\n",
        "\n",
        "void send_alert(const User& user, const std::string& message) {\n",
        "    std::cout << \"Sending alert to \" << user.email << \": \" << message << \"\\n\";\n",
        "    // Integration with Twilio/SMTP can go here\n",
        "}\n",
        "\n",
        "void log_alert(const std::string& email, const std::string& message) {\n",
        "    std::ofstream log(\"alerts.log\", std::ios::app);\n",
        "    log << \"Alert sent to \" << email << \": \" << message << \"\\n\";\n",
        "}\n"
      ],
      "metadata": {
        "id": "2iVLLtBrzJmt"
      },
      "execution_count": null,
      "outputs": []
    },
    {
      "cell_type": "code",
      "source": [
        "#pragma once\n",
        "#include <string>\n",
        "#include \"user.h\"\n",
        "\n",
        "void send_alert(const User& user, const std::string& message);\n",
        "void log_alert(const std::string& email, const std::string& message);\n"
      ],
      "metadata": {
        "id": "Yobvd5qMzHcV"
      },
      "execution_count": null,
      "outputs": []
    },
    {
      "cell_type": "code",
      "source": [
        "#include \"alert_engine.h\"\n",
        "#include <iostream>\n",
        "#include <cstdlib> // system()\n",
        "\n",
        "std::string fetch_weather_alert() {\n",
        "    // Mock function – simulate an API response\n",
        "    return \"Severe Thunderstorm Warning in Baton Rouge!\";\n",
        "}\n",
        "\n",
        "bool is_user_affected(const std::string& location) {\n",
        "    // Simplified logic for demo purposes\n",
        "    return location == \"Baton Rouge\";\n",
        "}\n"
      ],
      "metadata": {
        "id": "muAFJQxczFk-"
      },
      "execution_count": null,
      "outputs": []
    },
    {
      "cell_type": "code",
      "source": [
        "#pragma once\n",
        "#include <string>\n",
        "#include \"user.h\"\n",
        "\n",
        "std::string fetch_weather_alert();\n",
        "bool is_user_affected(const std::string& location);\n"
      ],
      "metadata": {
        "id": "gQq7syPNzDNh"
      },
      "execution_count": null,
      "outputs": []
    },
    {
      "cell_type": "code",
      "source": [
        "#include \"user.h\"\n",
        "#include <fstream>\n",
        "#include <vector>\n",
        "#include \"nlohmann/json.hpp\"\n",
        "\n",
        "using json = nlohmann::json;\n",
        "\n",
        "std::vector<User> load_users(const std::string& filename) {\n",
        "    std::vector<User> users;\n",
        "    std::ifstream file(filename);\n",
        "    json j;\n",
        "    file >> j;\n",
        "\n",
        "    for (const auto& item : j) {\n",
        "        users.push_back({item[\"email\"], item[\"location\"]});\n",
        "    }\n",
        "    return users;\n",
        "}\n"
      ],
      "metadata": {
        "id": "TEaV_K4Iy0X5"
      },
      "execution_count": null,
      "outputs": []
    },
    {
      "cell_type": "code",
      "source": [
        "#pragma once\n",
        "#include <string>\n",
        "\n",
        "struct User {\n",
        "    std::string email;\n",
        "    std::string location;\n",
        "};\n",
        "\n",
        "std::vector<User> load_users(const std::string& filename);\n"
      ],
      "metadata": {
        "colab": {
          "base_uri": "https://localhost:8080/",
          "height": 106
        },
        "id": "tTFmMvrfyl4K",
        "outputId": "21988bf5-71cf-46f8-ec1d-dc6566812d8e"
      },
      "execution_count": 1,
      "outputs": [
        {
          "output_type": "error",
          "ename": "SyntaxError",
          "evalue": "invalid syntax (<ipython-input-1-616ce5c1e028>, line 4)",
          "traceback": [
            "\u001b[0;36m  File \u001b[0;32m\"<ipython-input-1-616ce5c1e028>\"\u001b[0;36m, line \u001b[0;32m4\u001b[0m\n\u001b[0;31m    struct User {\u001b[0m\n\u001b[0m           ^\u001b[0m\n\u001b[0;31mSyntaxError\u001b[0m\u001b[0;31m:\u001b[0m invalid syntax\n"
          ]
        }
      ]
    },
    {
      "cell_type": "code",
      "execution_count": null,
      "metadata": {
        "id": "HuUtCYGJyXFP"
      },
      "outputs": [],
      "source": [
        "#include <iostream>\n",
        "#include <vector>\n",
        "#include \"user.h\"\n",
        "#include \"alert_engine.h\"\n",
        "#include \"notifier.h\"\n",
        "\n",
        "int main() {\n",
        "    std::vector<User> users = load_users(\"users.json\");\n",
        "\n",
        "    std::cout << \"WeatherWarn: Checking for alerts...\\n\";\n",
        "    std::string weatherAlert = fetch_weather_alert(); // mock API\n",
        "\n",
        "    if (!weatherAlert.empty()) {\n",
        "        for (auto& user : users) {\n",
        "            if (is_user_affected(user.location)) {\n",
        "                send_alert(user, weatherAlert);\n",
        "                log_alert(user.email, weatherAlert);\n",
        "            }\n",
        "        }\n",
        "    } else {\n",
        "        std::cout << \"No active weather alerts.\\n\";\n",
        "    }\n",
        "\n",
        "    return 0;\n",
        "}\n"
      ]
    }
  ]
}